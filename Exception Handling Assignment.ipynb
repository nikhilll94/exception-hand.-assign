{
 "cells": [
  {
   "cell_type": "markdown",
   "id": "828e5709-0e0f-48a5-96aa-34cfedebc6e8",
   "metadata": {},
   "source": [
    "Ans 1)"
   ]
  },
  {
   "cell_type": "code",
   "execution_count": 5,
   "id": "bb739683-3bb7-4a18-b19f-66166944b447",
   "metadata": {},
   "outputs": [],
   "source": [
    "#  exception in Python is an event that occurs during the execution of a program, which disrupts the normal flow of the program's instructions. When an exception occurs, Python creates an object that represents the exception and the program can then handle or propagate that exception.\n",
    "#Syntax Errors: These errors occur when you write invalid Python code that the interpreter cannot understand. They are typically caused by misspellings, missing parentheses, incorrect indentation, or improper use of language constructs\n",
    "#Exceptions: Exceptions occur during the execution of a program even if the syntax is correct. They are usually caused by unexpected events or conditions that violate the normal execution flow."
   ]
  },
  {
   "cell_type": "markdown",
   "id": "3f051e6e-cb61-413f-ba57-7c998ca4d998",
   "metadata": {},
   "source": [
    "Ans 2)"
   ]
  },
  {
   "cell_type": "code",
   "execution_count": null,
   "id": "d6648f46-d9b9-4869-a0f8-9e6305342edd",
   "metadata": {},
   "outputs": [],
   "source": [
    "# When an exception is not handled in Python, it leads to an error message being displayed and the program terminates abruptly. This behavior is known as an \"unhandled exception\" or an \"uncaught exception.\"\n",
    "#example \n",
    "try:\n",
    "    num1 = 10\n",
    "    num2 = 0\n",
    "    result = num1 / num2  # Raises a ZeroDivisionError\n",
    "    print(\"Result:\", result)\n",
    "except ValueError:\n",
    "    print(\"ValueError occurred.\")\n",
    "\n",
    " #output\n",
    "    Traceback (most recent call last):\n",
    "  File \"<filename>\", line 4, in <module>\n",
    "ZeroDivisionError: division by zero\n",
    "\n"
   ]
  },
  {
   "cell_type": "markdown",
   "id": "0f718e7a-3174-4707-9e6f-5a1546103ff8",
   "metadata": {},
   "source": [
    "Ans 3)"
   ]
  },
  {
   "cell_type": "code",
   "execution_count": null,
   "id": "664593a3-d5c9-4b67-82e7-8e4a65578895",
   "metadata": {},
   "outputs": [],
   "source": [
    "# In Python, the try and except statements are used to handle exceptions. The try block contains the code that may raise an exception, and the except block specifies how to handle the exception if it occurs.\n",
    "\n",
    "#example using logging \n",
    "import logging\n",
    "logging.basicConfig(filename='error.log', level=logging.ERROR,\n",
    "                    format='%(asctime)s %(levelname)s: %(message)s')\n",
    "\n",
    "def divide_numbers(num1, num2):\n",
    "    try:\n",
    "        result = num1 / num2\n",
    "        return result\n",
    "    except ZeroDivisionError as e:\n",
    "        logging.error(f\"Error occurred: {e}\")\n",
    "        return None\n",
    "\n",
    "\n",
    "num1 = 10\n",
    "num2 = 0\n",
    "\n",
    "result = divide_numbers(num1, num2)\n",
    "if result is not None:\n",
    "    print(\"Result:\", result)\n",
    "else:\n",
    "    print(\"An error occurred. Please check the error log for details.\")\n"
   ]
  },
  {
   "cell_type": "markdown",
   "id": "aa303c9b-70f3-422f-bbc0-dbb16ca29d94",
   "metadata": {},
   "source": [
    "Ans 4)"
   ]
  },
  {
   "cell_type": "code",
   "execution_count": null,
   "id": "71700e8f-f52e-4713-843b-25c87f14dc94",
   "metadata": {},
   "outputs": [],
   "source": [
    "# 1) try and else:\n",
    "#The else block is executed if no exceptions occur in the preceding try block. It is useful when you want to specify code that should run only when the try block is completed successfully.\n",
    "\n",
    "#example\n",
    "try:\n",
    "    num1 = int(input(\"Enter a number: \"))\n",
    "    num2 = int(input(\"Enter another number: \"))\n",
    "    result = num1 / num2\n",
    "except ValueError:\n",
    "    print(\"Invalid input. Please enter a valid integer.\")\n",
    "else:\n",
    "    print(\"Division successful.\")\n",
    "    print(\"Result:\", result)\n",
    "    \n",
    "\n",
    "    \n",
    "#2) finally:\n",
    "#The finally block is always executed, regardless of whether an exception occurred or not. It is commonly used to perform cleanup actions or release resources, ensuring that certain code is executed even if an exception is raised.\n",
    "\n",
    "#example\n",
    "try:\n",
    "    file = open(\"example.txt\", \"r\")\n",
    "    # Perform some operations with the file\n",
    "except FileNotFoundError:\n",
    "    print(\"File not found.\")\n",
    "finally:\n",
    "    file.close()\n",
    "    # Always close the file, even if an exception occurred\n",
    "\n",
    "    \n",
    "    \n",
    "    \n",
    "#3) raise:\n",
    "#The raise statement is used to manually raise an exception in Python. It allows you to create custom exceptions or re-raise existing ones with additional information.\n",
    "\n",
    "#example \n",
    "def validate_age(age):\n",
    "    if age < 0:\n",
    "        raise ValueError(\"Age cannot be negative.\")\n",
    "    elif age < 18:\n",
    "        raise ValueError(\"You must be at least 18 years old.\")\n",
    "    else:\n",
    "        print(\"Age is valid.\")\n",
    "\n",
    "try:\n",
    "    user_age = int(input(\"Enter your age: \"))\n",
    "    validate_age(user_age)\n",
    "except ValueError as e:\n",
    "    print(\"Invalid age:\", str(e))\n"
   ]
  },
  {
   "cell_type": "markdown",
   "id": "ddf8e79e-1bcb-4d3f-a28d-baf96dd7ba40",
   "metadata": {},
   "source": [
    "Ans 5)"
   ]
  },
  {
   "cell_type": "code",
   "execution_count": null,
   "id": "9b12f27b-e0eb-4561-ac5a-b3686dfeeb87",
   "metadata": {},
   "outputs": [],
   "source": [
    "# Custom exceptions in Python are user-defined exception classes that inherit from the base Exception class or its subclasses. They allow you to define specific exception types tailored to your application's needs.\n",
    "\n",
    "#There are a few reasons why you might need custom exceptions:\n",
    "\n",
    "#Specific Error Handling:\n",
    "#Code Readability\n",
    "#Modularity and Reusability\n",
    "\n",
    "#example \n",
    "import logging\n",
    "logging.basicConfig(filename='error.log', level=logging.ERROR,\n",
    "                    format='%(asctime)s %(levelname)s: %(message)s')\n",
    "\n",
    "class WithdrawalError(Exception):\n",
    "    pass\n",
    "\n",
    "class InsufficientFundsError(WithdrawalError):\n",
    "    pass\n",
    "\n",
    "class NegativeAmountError(WithdrawalError):\n",
    "    pass\n",
    "\n",
    "class BankAccount:\n",
    "    def __init__(self, balance):\n",
    "        self.balance = balance\n",
    "\n",
    "    def withdraw(self, amount):\n",
    "        try:\n",
    "            if amount < 0:\n",
    "                raise NegativeAmountError(\"Negative amount is not allowed.\")\n",
    "\n",
    "            if amount > self.balance:\n",
    "                raise InsufficientFundsError(\"Insufficient funds.\")\n",
    "\n",
    "            self.balance -= amount\n",
    "            print(\"Withdrawal successful.\")\n",
    "        except WithdrawalError as e:\n",
    "            logging.error(str(e))  # Log the custom exception\n",
    "            raise  # Re-raise the exception for further handling\n",
    "\n",
    "# Usage\n",
    "account = BankAccount(1000)\n",
    "try:\n",
    "    account.withdraw(1500)\n",
    "except WithdrawalError as e:\n",
    "    print(\"Withdrawal error:\", str(e))\n",
    "\n"
   ]
  },
  {
   "cell_type": "markdown",
   "id": "413b20bb-181f-4aaf-87e1-38d0ca030c41",
   "metadata": {},
   "source": [
    "Ans 6)"
   ]
  },
  {
   "cell_type": "code",
   "execution_count": null,
   "id": "638f0e15-a17a-4635-ab33-b90c9a9c3297",
   "metadata": {},
   "outputs": [],
   "source": []
  }
 ],
 "metadata": {
  "kernelspec": {
   "display_name": "Python 3 (ipykernel)",
   "language": "python",
   "name": "python3"
  },
  "language_info": {
   "codemirror_mode": {
    "name": "ipython",
    "version": 3
   },
   "file_extension": ".py",
   "mimetype": "text/x-python",
   "name": "python",
   "nbconvert_exporter": "python",
   "pygments_lexer": "ipython3",
   "version": "3.10.8"
  }
 },
 "nbformat": 4,
 "nbformat_minor": 5
}
